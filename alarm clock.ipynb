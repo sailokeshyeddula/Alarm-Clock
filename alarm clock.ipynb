{
 "cells": [
  {
   "cell_type": "code",
   "execution_count": 11,
   "id": "3192d526",
   "metadata": {},
   "outputs": [
    {
     "name": "stdout",
     "output_type": "stream",
     "text": [
      "Enter the alarm time in HH:MM format: 20:14\n",
      "Current Time: 20:13\n",
      "Current Time: 20:13\n",
      "Current Time: 20:13\n",
      "Current Time: 20:13\n",
      "Current Time: 20:13\n",
      "Current Time: 20:13\n",
      "Current Time: 20:13\n",
      "Current Time: 20:13\n",
      "Current Time: 20:13\n",
      "Current Time: 20:13\n",
      "Current Time: 20:13\n",
      "Current Time: 20:13\n",
      "Current Time: 20:13\n",
      "Current Time: 20:13\n",
      "Current Time: 20:13\n",
      "Current Time: 20:13\n",
      "Current Time: 20:13\n",
      "Current Time: 20:13\n",
      "Current Time: 20:13\n",
      "Current Time: 20:13\n",
      "Current Time: 20:13\n",
      "Current Time: 20:13\n",
      "Current Time: 20:13\n",
      "Current Time: 20:13\n",
      "Current Time: 20:13\n",
      "Current Time: 20:13\n",
      "Current Time: 20:13\n",
      "Current Time: 20:13\n",
      "Current Time: 20:13\n",
      "Current Time: 20:13\n",
      "Current Time: 20:13\n",
      "Current Time: 20:13\n",
      "Current Time: 20:13\n",
      "Current Time: 20:13\n",
      "Current Time: 20:13\n",
      "Current Time: 20:13\n",
      "Current Time: 20:13\n",
      "Current Time: 20:13\n",
      "Current Time: 20:13\n",
      "Current Time: 20:13\n",
      "Current Time: 20:13\n",
      "Wake up!\n"
     ]
    },
    {
     "name": "stderr",
     "output_type": "stream",
     "text": [
      "\n",
      "    Error 263 for command:\n",
      "        close Clock-chimes-sounds.mp3\n",
      "    The specified device is not open or is not recognized by MCI.\n",
      "Failed to close the file: Clock-chimes-sounds.mp3\n"
     ]
    }
   ],
   "source": [
    "import datetime\n",
    "import time\n",
    "import playsound\n",
    "\n",
    "def set_alarm():\n",
    "    alarm_time = input(\"Enter the alarm time in HH:MM format: \")\n",
    "    while True:\n",
    "        current_time = datetime.datetime.now().strftime(\"%H:%M\")\n",
    "        if current_time == alarm_time:\n",
    "            print(\"Wake up!\")\n",
    "            playsound.playsound(\"Clock-chimes-sounds.mp3\")  # Replace \"sound.mp3\" with your preferred alarm sound file\n",
    "            break\n",
    "        else:\n",
    "            print(\"Current Time:\", current_time)\n",
    "            time.sleep(1)\n",
    "\n",
    "set_alarm()\n"
   ]
  },
  {
   "cell_type": "code",
   "execution_count": null,
   "id": "b726cca3",
   "metadata": {},
   "outputs": [],
   "source": []
  },
  {
   "cell_type": "code",
   "execution_count": null,
   "id": "da1a4f05",
   "metadata": {},
   "outputs": [],
   "source": []
  }
 ],
 "metadata": {
  "kernelspec": {
   "display_name": "Python 3 (ipykernel)",
   "language": "python",
   "name": "python3"
  },
  "language_info": {
   "codemirror_mode": {
    "name": "ipython",
    "version": 3
   },
   "file_extension": ".py",
   "mimetype": "text/x-python",
   "name": "python",
   "nbconvert_exporter": "python",
   "pygments_lexer": "ipython3",
   "version": "3.11.3"
  }
 },
 "nbformat": 4,
 "nbformat_minor": 5
}
